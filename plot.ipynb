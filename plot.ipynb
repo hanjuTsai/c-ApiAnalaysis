{
 "cells": [
  {
   "cell_type": "markdown",
   "metadata": {},
   "source": [
    "## Execute the project and pip the result into txt file"
   ]
  },
  {
   "cell_type": "code",
   "execution_count": 73,
   "metadata": {},
   "outputs": [
    {
     "data": {
      "text/plain": [
       "0"
      ]
     },
     "execution_count": 73,
     "metadata": {},
     "output_type": "execute_result"
    }
   ],
   "source": [
    "import sys\n",
    "import os\n",
    "os.system(\"dotnet run --project APITest > analysis.txt\")"
   ]
  },
  {
   "cell_type": "markdown",
   "metadata": {},
   "source": [
    "## Process the result"
   ]
  },
  {
   "cell_type": "code",
   "execution_count": 74,
   "metadata": {},
   "outputs": [],
   "source": [
    "file = open('analysis.txt','r')\n",
    "result = file.read().split('\\n')\n",
    "file.close()"
   ]
  },
  {
   "cell_type": "markdown",
   "metadata": {},
   "source": [
    "## Depend on the result and plot the scatter diagram"
   ]
  },
  {
   "cell_type": "code",
   "execution_count": 180,
   "metadata": {},
   "outputs": [],
   "source": [
    "x = []\n",
    "y = []\n",
    "for i in range(len(result)):\n",
    "    raw = result[i] \n",
    "    raw = list(filter((lambda x :  x != \"\" ),raw.split('-')))\n",
    "    if('bytes' in raw):\n",
    "        bb = raw[0]\n",
    "        continue\n",
    "    if len(raw) == 0:\n",
    "        continue\n",
    "    x.append(bb)\n",
    "    y.append(raw[0])\n",
    "\n",
    "final = [[],[],[]]\n",
    "axis = []\n",
    "for i in range(len(y)):\n",
    "    final[i%3].append(y[i])\n",
    "    if i % 3 == 0:\n",
    "        axis.append(x[i])\n",
    "# print(final)\n",
    "# print(axis)\n"
   ]
  },
  {
   "cell_type": "markdown",
   "metadata": {},
   "source": [
    "## Plot the result"
   ]
  },
  {
   "cell_type": "code",
   "execution_count": 189,
   "metadata": {},
   "outputs": [
    {
     "data": {
      "text/plain": [
       "(('0', '0', '0.001', '0.001', '0.003', '0.003', '0.011', '0.079'),\n",
       " ('20', '100', '10', '4048', '500', '2048', '1024', '5'),\n",
       " str)"
      ]
     },
     "execution_count": 189,
     "metadata": {},
     "output_type": "execute_result"
    }
   ],
   "source": [
    "new_y,new_x,type(y[0])\n"
   ]
  },
  {
   "cell_type": "code",
   "execution_count": 191,
   "metadata": {},
   "outputs": [
    {
     "data": {
      "image/png": "[encoded data removed]",
      "text/plain": [
       "<Figure size 432x288 with 1 Axes>"
      ]
     },
     "metadata": {
      "needs_background": "light"
     },
     "output_type": "display_data"
    }
   ],
   "source": [
    "import matplotlib.pyplot as plt\n",
    "\n",
    "for i in range(len(final)):\n",
    "    y = list( map( lambda x : float(x),final[i]))\n",
    "    x = list( map( lambda x : float(x),axis))\n",
    "    #lists = sorted(zip(*[y,x]),key=lambda x: float(x[0]))\n",
    "    #new_y,new_x= list(zip(*lists))\n",
    "#     plt.scatter(new_x, new_y ,label=labels[i])\n",
    "    plt.plot(x, y ,label=labels[i])\n",
    "\n",
    "        \n",
    "plt.xlabel('number of bytes')\n",
    "plt.ylabel('the averge time')\n",
    "plt.title('the average response time receiving the data')\n",
    "labels = ['http','restsharp','refit']\n",
    "\n",
    "plt.legend(loc='upper right')\n",
    "plt.savefig('plot.png')\n",
    "plt.show()"
   ]
  },
  {
   "cell_type": "code",
   "execution_count": null,
   "metadata": {},
   "outputs": [],
   "source": []
  }
 ],
 "metadata": {
  "kernelspec": {
   "display_name": "Python 3",
   "language": "python",
   "name": "python3"
  },
  "language_info": {
   "codemirror_mode": {
    "name": "ipython",
    "version": 3
   },
   "file_extension": ".py",
   "mimetype": "text/x-python",
   "name": "python",
   "nbconvert_exporter": "python",
   "pygments_lexer": "ipython3",
   "version": "3.7.0"
  }
 },
 "nbformat": 4,
 "nbformat_minor": 2
}
